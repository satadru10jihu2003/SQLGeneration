{
 "cells": [
  {
   "cell_type": "code",
   "execution_count": 59,
   "id": "b14bb42a-82ad-4905-b452-7cbbaa76fbe2",
   "metadata": {},
   "outputs": [
    {
     "name": "stdout",
     "output_type": "stream",
     "text": [
      "SELECT COUNT(*) FROM Accounts WHERE RepID = 'CCCA';\n",
      "Result: 5\n"
     ]
    }
   ],
   "source": [
    "import ollama\n",
    "import psycopg2\n",
    "\n",
    "prompt = '''\n",
    "You are a helpful assistant specialising in PostGRE SQL database.\n",
    "Answer the questions by providing only the SQL statement that is compatible with the PostGRE database.\n",
    "The response should contain only the generated SQL statement.\n",
    "This is the question you are required to answer: \n",
    "How many accounts does the repid CCCA has?\n",
    "\n",
    "Here is the relevant context of the database:\n",
    "CREATE TABLE Accounts (\n",
    "    AccountName        varchar(40),\n",
    "    AccountNumber      char(8) primary key,\n",
    "    AccountValue       DECIMAL(10, 2),\n",
    "    LastRebalanceDate   date,\n",
    "    DaysSinceLastRebalance        integer,\n",
    "    TotalSecurityDriftValue         DECIMAL(10, 2),\n",
    "\tAccountClass\t\tvarchar(20),\n",
    "\tRepID\t\t\t\tchar(4)\n",
    ");\n",
    "'''\n",
    "\n",
    "response = ollama.generate(model=\"codellama:13b\", prompt=prompt)\n",
    "sql = response['response']\n",
    "print(sql)\n",
    "iIndex = sql.find(\"SELECT\")\n",
    "end = sql.find(\";\")\n",
    "if iIndex != -1 and end != -1:\n",
    "    sql = sql[iIndex:end]\n",
    "else:\n",
    "    sql = 'SELECT 1'\n",
    "\n",
    "DB_PARAMS = {\n",
    "    \"dbname\": \"postgres\",\n",
    "    \"user\": \"postgres\",\n",
    "    \"password\": \"password\",\n",
    "    \"host\": \"localhost\",\n",
    "    \"port\": \"5432\"\n",
    "}\n",
    "\n",
    "conn = psycopg2.connect(**DB_PARAMS)\n",
    "cur = conn.cursor()\n",
    "cur.execute(sql)\n",
    "    \n",
    "rows = cur.fetchall()\n",
    "output = \"\\n\\n\".join([f\"Result: {row[0]}\" for row in rows])\n",
    "\n",
    "print(output)"
   ]
  }
 ],
 "metadata": {
  "kernelspec": {
   "display_name": "Python 3 (ipykernel)",
   "language": "python",
   "name": "python3"
  },
  "language_info": {
   "codemirror_mode": {
    "name": "ipython",
    "version": 3
   },
   "file_extension": ".py",
   "mimetype": "text/x-python",
   "name": "python",
   "nbconvert_exporter": "python",
   "pygments_lexer": "ipython3",
   "version": "3.12.5"
  }
 },
 "nbformat": 4,
 "nbformat_minor": 5
}
